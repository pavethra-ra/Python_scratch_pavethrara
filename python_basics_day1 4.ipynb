{
  "nbformat": 4,
  "nbformat_minor": 0,
  "metadata": {
    "colab": {
      "provenance": []
    },
    "kernelspec": {
      "name": "python3",
      "display_name": "Python 3"
    },
    "language_info": {
      "name": "python"
    }
  },
  "cells": [
    {
      "cell_type": "code",
      "execution_count": null,
      "metadata": {
        "colab": {
          "base_uri": "https://localhost:8080/",
          "height": 141
        },
        "id": "fooBKl8FmcO4",
        "outputId": "2c2d67e8-e943-4afd-d46b-1b04919f4960"
      },
      "outputs": [
        {
          "output_type": "error",
          "ename": "NameError",
          "evalue": "name 'prit' is not defined",
          "traceback": [
            "\u001b[0;31m---------------------------------------------------------------------------\u001b[0m",
            "\u001b[0;31mNameError\u001b[0m                                 Traceback (most recent call last)",
            "\u001b[0;32m<ipython-input-3-db6dda56cc4d>\u001b[0m in \u001b[0;36m<cell line: 0>\u001b[0;34m()\u001b[0m\n\u001b[0;32m----> 1\u001b[0;31m \u001b[0mprit\u001b[0m\u001b[0;34m(\u001b[0m\u001b[0;34m\"welcome to Python world\"\u001b[0m\u001b[0;34m)\u001b[0m\u001b[0;34m\u001b[0m\u001b[0;34m\u001b[0m\u001b[0m\n\u001b[0m",
            "\u001b[0;31mNameError\u001b[0m: name 'prit' is not defined"
          ]
        }
      ],
      "source": [
        "prit(\"welcome to Python world\")"
      ]
    },
    {
      "cell_type": "code",
      "source": [
        "2+3"
      ],
      "metadata": {
        "colab": {
          "base_uri": "https://localhost:8080/"
        },
        "id": "456iibnZml4b",
        "outputId": "98005d39-dad6-427f-90f5-a6fad527d64b"
      },
      "execution_count": null,
      "outputs": [
        {
          "output_type": "execute_result",
          "data": {
            "text/plain": [
              "5"
            ]
          },
          "metadata": {},
          "execution_count": 2
        }
      ]
    },
    {
      "cell_type": "markdown",
      "source": [
        "AI,ML, Data Analysys"
      ],
      "metadata": {
        "id": "opTp3jnO2VFw"
      }
    },
    {
      "cell_type": "code",
      "source": [],
      "metadata": {
        "id": "ergayM_92foi"
      },
      "execution_count": null,
      "outputs": []
    },
    {
      "cell_type": "markdown",
      "source": [
        "interactive python note book--ipynb"
      ],
      "metadata": {
        "id": "QRXZzMn721rR"
      }
    },
    {
      "cell_type": "code",
      "source": [
        "a=10\n",
        "print(a)\n",
        "print(\"address=\",id(a))"
      ],
      "metadata": {
        "colab": {
          "base_uri": "https://localhost:8080/"
        },
        "id": "ewB_dV8H27pg",
        "outputId": "3457301b-856e-4651-fb76-b58aec5ae124"
      },
      "execution_count": 3,
      "outputs": [
        {
          "output_type": "stream",
          "name": "stdout",
          "text": [
            "10\n",
            "address= 10751144\n"
          ]
        }
      ]
    },
    {
      "cell_type": "code",
      "source": [
        "b=10\n",
        "print(b)\n",
        "print(\"address=\",id(b))\n",
        "c=a\n",
        "print(c)\n",
        "print(\"address=\",id(c))"
      ],
      "metadata": {
        "colab": {
          "base_uri": "https://localhost:8080/"
        },
        "id": "bVHg9DUj840W",
        "outputId": "f172f234-0aba-489e-cbf9-a7d85c317e27"
      },
      "execution_count": 4,
      "outputs": [
        {
          "output_type": "stream",
          "name": "stdout",
          "text": [
            "10\n",
            "address= 10751144\n",
            "10\n",
            "address= 10751144\n"
          ]
        }
      ]
    },
    {
      "cell_type": "code",
      "source": [
        "a=40\n",
        "print(a)\n",
        "print(\"address=\",id(a))"
      ],
      "metadata": {
        "colab": {
          "base_uri": "https://localhost:8080/"
        },
        "id": "e03sCWNu9Ky2",
        "outputId": "8bb9f3ab-b207-4127-f34d-b04a0ebacaa0"
      },
      "execution_count": 5,
      "outputs": [
        {
          "output_type": "stream",
          "name": "stdout",
          "text": [
            "40\n",
            "address= 10752104\n"
          ]
        }
      ]
    },
    {
      "cell_type": "code",
      "source": [
        "b=a\n",
        "\n",
        "print(b)\n",
        "print(\"address=\",id(b))"
      ],
      "metadata": {
        "colab": {
          "base_uri": "https://localhost:8080/"
        },
        "id": "cGzCwvR19Xre",
        "outputId": "8531ae27-362d-446f-c6b5-41a4f98bc055"
      },
      "execution_count": 6,
      "outputs": [
        {
          "output_type": "stream",
          "name": "stdout",
          "text": [
            "40\n",
            "address= 10752104\n"
          ]
        }
      ]
    },
    {
      "cell_type": "code",
      "source": [
        "def demoOne(): #function creation\n",
        "    num1=12\n",
        "    num2=23\n",
        "    res = num1*num2\n",
        "    print(res)\n",
        "#scope of function ends here\n",
        "demoOne() #function call\n"
      ],
      "metadata": {
        "id": "wpvi4-tV_8dI",
        "outputId": "add8df54-482e-4cc1-f03c-3ff7cc71b230",
        "colab": {
          "base_uri": "https://localhost:8080/"
        }
      },
      "execution_count": 7,
      "outputs": [
        {
          "output_type": "stream",
          "name": "stdout",
          "text": [
            "276\n"
          ]
        }
      ]
    },
    {
      "cell_type": "code",
      "source": [
        "def addition(num1,num2):\n",
        "    res = num1+num2\n",
        "    print(\"Addition of 2 nos.\",res)\n",
        "    print(\"Function call completed\")\n",
        "\n",
        "#staments outside the function\n",
        "print(\"First function call\")\n",
        "addition(12,56) #function call\n",
        "print(\"second function call\")\n",
        "addition(34,57) #function call\n"
      ],
      "metadata": {
        "id": "qbvYfUIc__J-",
        "outputId": "38a4aa51-3c2c-4900-c6b7-5676271742f0",
        "colab": {
          "base_uri": "https://localhost:8080/"
        }
      },
      "execution_count": 8,
      "outputs": [
        {
          "output_type": "stream",
          "name": "stdout",
          "text": [
            "First function call\n",
            "Addition of 2 nos. 68\n",
            "Function call completed\n",
            "second function call\n",
            "Addition of 2 nos. 91\n",
            "Function call completed\n"
          ]
        }
      ]
    },
    {
      "cell_type": "code",
      "source": [
        "def empName(*name): #it will take unknown number of data in tuple format\n",
        "    print(\"Third employee name is \", name[2])\n",
        "empName(\"Richa\",\"Raju\",\"Ramya\")\n"
      ],
      "metadata": {
        "id": "Qp2V3fEsAled",
        "outputId": "5d7a0f04-079e-4612-ec2c-8ec2a1eebd1d",
        "colab": {
          "base_uri": "https://localhost:8080/"
        }
      },
      "execution_count": 11,
      "outputs": [
        {
          "output_type": "stream",
          "name": "stdout",
          "text": [
            "Third employee name is  Ramya\n"
          ]
        }
      ]
    },
    {
      "cell_type": "code",
      "source": [
        "\n",
        "def my3rd(*name):\n",
        "  print(\"second name is\",name[1])\n",
        "my3rd(\"rama\",\"sushu\",\"lucky\")"
      ],
      "metadata": {
        "id": "FIdPYQXJAyFe",
        "outputId": "2a401375-78dc-4da4-e5e7-f07b5be325a4",
        "colab": {
          "base_uri": "https://localhost:8080/"
        }
      },
      "execution_count": 15,
      "outputs": [
        {
          "output_type": "stream",
          "name": "stdout",
          "text": [
            "second name is sushu\n"
          ]
        }
      ]
    },
    {
      "cell_type": "code",
      "source": [
        "def projectdata(pname = \"lyfesys\"):\n",
        "  print(\"chosen proname is -\" ,pname)\n",
        "projectdata(\"e-tech\")\n",
        "projectdata()\n",
        "projectdata(\"protegrity\")\n",
        "\n"
      ],
      "metadata": {
        "id": "HF5RO2D0Ck6H",
        "outputId": "d0067e32-83e6-4088-ac87-f66ab9bf2974",
        "colab": {
          "base_uri": "https://localhost:8080/"
        }
      },
      "execution_count": 17,
      "outputs": [
        {
          "output_type": "stream",
          "name": "stdout",
          "text": [
            "chosen proname is - e-tech\n",
            "chosen proname is - lyfesys\n",
            "chosen proname is - protegrity\n"
          ]
        }
      ]
    },
    {
      "cell_type": "code",
      "source": [
        "def empDetails(**emp): #it will take unknown number of data in dictionary format\n",
        "    print(\"firstname of employee : \",emp[\"fname\"])\n",
        "empDetails(fname=\"Richa\",lname=\"Singh\",id=101)\n"
      ],
      "metadata": {
        "id": "NrT6uTlTFqM1",
        "outputId": "338002f1-f343-4989-c27d-ecb3559d58b6",
        "colab": {
          "base_uri": "https://localhost:8080/"
        }
      },
      "execution_count": 18,
      "outputs": [
        {
          "output_type": "stream",
          "name": "stdout",
          "text": [
            "firstname of employee :  Richa\n"
          ]
        }
      ]
    },
    {
      "cell_type": "code",
      "source": [
        "def empdata(**emp):\n",
        "  print(\"id is -\",emp[\"id\"])\n",
        "empdata(fn=\"pavi\",ln=\"R\",id=1234)"
      ],
      "metadata": {
        "id": "COZo0YtRFyc3",
        "outputId": "1acae3a9-4132-4017-ac3c-fe8b12ee09f4",
        "colab": {
          "base_uri": "https://localhost:8080/"
        }
      },
      "execution_count": 21,
      "outputs": [
        {
          "output_type": "stream",
          "name": "stdout",
          "text": [
            "id is - 1234\n"
          ]
        }
      ]
    },
    {
      "cell_type": "code",
      "source": [],
      "metadata": {
        "id": "9K7kO5M_GbKQ"
      },
      "execution_count": null,
      "outputs": []
    }
  ]
}