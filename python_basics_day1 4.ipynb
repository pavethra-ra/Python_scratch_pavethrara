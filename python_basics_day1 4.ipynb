{
  "nbformat": 4,
  "nbformat_minor": 0,
  "metadata": {
    "colab": {
      "provenance": []
    },
    "kernelspec": {
      "name": "python3",
      "display_name": "Python 3"
    },
    "language_info": {
      "name": "python"
    }
  },
  "cells": [
    {
      "cell_type": "code",
      "execution_count": null,
      "metadata": {
        "colab": {
          "base_uri": "https://localhost:8080/",
          "height": 141
        },
        "id": "fooBKl8FmcO4",
        "outputId": "2c2d67e8-e943-4afd-d46b-1b04919f4960"
      },
      "outputs": [
        {
          "output_type": "error",
          "ename": "NameError",
          "evalue": "name 'prit' is not defined",
          "traceback": [
            "\u001b[0;31m---------------------------------------------------------------------------\u001b[0m",
            "\u001b[0;31mNameError\u001b[0m                                 Traceback (most recent call last)",
            "\u001b[0;32m<ipython-input-3-db6dda56cc4d>\u001b[0m in \u001b[0;36m<cell line: 0>\u001b[0;34m()\u001b[0m\n\u001b[0;32m----> 1\u001b[0;31m \u001b[0mprit\u001b[0m\u001b[0;34m(\u001b[0m\u001b[0;34m\"welcome to Python world\"\u001b[0m\u001b[0;34m)\u001b[0m\u001b[0;34m\u001b[0m\u001b[0;34m\u001b[0m\u001b[0m\n\u001b[0m",
            "\u001b[0;31mNameError\u001b[0m: name 'prit' is not defined"
          ]
        }
      ],
      "source": [
        "prit(\"welcome to Python world\")"
      ]
    },
    {
      "cell_type": "code",
      "source": [
        "2+3"
      ],
      "metadata": {
        "colab": {
          "base_uri": "https://localhost:8080/"
        },
        "id": "456iibnZml4b",
        "outputId": "98005d39-dad6-427f-90f5-a6fad527d64b"
      },
      "execution_count": null,
      "outputs": [
        {
          "output_type": "execute_result",
          "data": {
            "text/plain": [
              "5"
            ]
          },
          "metadata": {},
          "execution_count": 2
        }
      ]
    },
    {
      "cell_type": "markdown",
      "source": [
        "AI,ML, Data Analysys"
      ],
      "metadata": {
        "id": "opTp3jnO2VFw"
      }
    },
    {
      "cell_type": "code",
      "source": [],
      "metadata": {
        "id": "ergayM_92foi"
      },
      "execution_count": null,
      "outputs": []
    },
    {
      "cell_type": "markdown",
      "source": [
        "interactive python note book--ipynb"
      ],
      "metadata": {
        "id": "QRXZzMn721rR"
      }
    },
    {
      "cell_type": "code",
      "source": [
        "a=10\n",
        "print(a)\n",
        "print(\"address=\",id(a))"
      ],
      "metadata": {
        "colab": {
          "base_uri": "https://localhost:8080/"
        },
        "id": "ewB_dV8H27pg",
        "outputId": "3457301b-856e-4651-fb76-b58aec5ae124"
      },
      "execution_count": 3,
      "outputs": [
        {
          "output_type": "stream",
          "name": "stdout",
          "text": [
            "10\n",
            "address= 10751144\n"
          ]
        }
      ]
    },
    {
      "cell_type": "code",
      "source": [
        "b=10\n",
        "print(b)\n",
        "print(\"address=\",id(b))\n",
        "c=a\n",
        "print(c)\n",
        "print(\"address=\",id(c))"
      ],
      "metadata": {
        "colab": {
          "base_uri": "https://localhost:8080/"
        },
        "id": "bVHg9DUj840W",
        "outputId": "f172f234-0aba-489e-cbf9-a7d85c317e27"
      },
      "execution_count": 4,
      "outputs": [
        {
          "output_type": "stream",
          "name": "stdout",
          "text": [
            "10\n",
            "address= 10751144\n",
            "10\n",
            "address= 10751144\n"
          ]
        }
      ]
    },
    {
      "cell_type": "code",
      "source": [
        "a=40\n",
        "print(a)\n",
        "print(\"address=\",id(a))"
      ],
      "metadata": {
        "colab": {
          "base_uri": "https://localhost:8080/"
        },
        "id": "e03sCWNu9Ky2",
        "outputId": "8bb9f3ab-b207-4127-f34d-b04a0ebacaa0"
      },
      "execution_count": 5,
      "outputs": [
        {
          "output_type": "stream",
          "name": "stdout",
          "text": [
            "40\n",
            "address= 10752104\n"
          ]
        }
      ]
    },
    {
      "cell_type": "code",
      "source": [
        "b=a\n",
        "\n",
        "print(b)\n",
        "print(\"address=\",id(b))"
      ],
      "metadata": {
        "colab": {
          "base_uri": "https://localhost:8080/"
        },
        "id": "cGzCwvR19Xre",
        "outputId": "8531ae27-362d-446f-c6b5-41a4f98bc055"
      },
      "execution_count": 6,
      "outputs": [
        {
          "output_type": "stream",
          "name": "stdout",
          "text": [
            "40\n",
            "address= 10752104\n"
          ]
        }
      ]
    },
    {
      "cell_type": "code",
      "source": [
        "def demoOne(): #function creation\n",
        "    num1=12\n",
        "    num2=23\n",
        "    res = num1*num2\n",
        "    print(res)\n",
        "#scope of function ends here\n",
        "demoOne() #function call\n"
      ],
      "metadata": {
        "colab": {
          "base_uri": "https://localhost:8080/"
        },
        "id": "wpvi4-tV_8dI",
        "outputId": "add8df54-482e-4cc1-f03c-3ff7cc71b230"
      },
      "execution_count": 7,
      "outputs": [
        {
          "output_type": "stream",
          "name": "stdout",
          "text": [
            "276\n"
          ]
        }
      ]
    },
    {
      "cell_type": "code",
      "source": [
        "def addition(num1,num2):\n",
        "    res = num1+num2\n",
        "    print(\"Addition of 2 nos.\",res)\n",
        "    print(\"Function call completed\")\n",
        "\n",
        "#staments outside the function\n",
        "print(\"First function call\")\n",
        "addition(12,56) #function call\n",
        "print(\"second function call\")\n",
        "addition(34,57) #function call\n"
      ],
      "metadata": {
        "colab": {
          "base_uri": "https://localhost:8080/"
        },
        "id": "qbvYfUIc__J-",
        "outputId": "38a4aa51-3c2c-4900-c6b7-5676271742f0"
      },
      "execution_count": 8,
      "outputs": [
        {
          "output_type": "stream",
          "name": "stdout",
          "text": [
            "First function call\n",
            "Addition of 2 nos. 68\n",
            "Function call completed\n",
            "second function call\n",
            "Addition of 2 nos. 91\n",
            "Function call completed\n"
          ]
        }
      ]
    },
    {
      "cell_type": "code",
      "source": [
        "def empName(*name): #it will take unknown number of data in tuple format\n",
        "    print(\"Third employee name is \", name[2])\n",
        "empName(\"Richa\",\"Raju\",\"Ramya\")\n"
      ],
      "metadata": {
        "colab": {
          "base_uri": "https://localhost:8080/"
        },
        "id": "Qp2V3fEsAled",
        "outputId": "5d7a0f04-079e-4612-ec2c-8ec2a1eebd1d"
      },
      "execution_count": 11,
      "outputs": [
        {
          "output_type": "stream",
          "name": "stdout",
          "text": [
            "Third employee name is  Ramya\n"
          ]
        }
      ]
    },
    {
      "cell_type": "code",
      "source": [
        "\n",
        "def my3rd(*name):\n",
        "  print(\"second name is\",name[1])\n",
        "my3rd(\"rama\",\"sushu\",\"lucky\")"
      ],
      "metadata": {
        "colab": {
          "base_uri": "https://localhost:8080/"
        },
        "id": "FIdPYQXJAyFe",
        "outputId": "2a401375-78dc-4da4-e5e7-f07b5be325a4"
      },
      "execution_count": 15,
      "outputs": [
        {
          "output_type": "stream",
          "name": "stdout",
          "text": [
            "second name is sushu\n"
          ]
        }
      ]
    },
    {
      "cell_type": "code",
      "source": [
        "def projectdata(pname = \"lyfesys\"):\n",
        "  print(\"chosen proname is -\" ,pname)\n",
        "projectdata(\"e-tech\")\n",
        "projectdata()\n",
        "projectdata(\"protegrity\")\n",
        "\n"
      ],
      "metadata": {
        "colab": {
          "base_uri": "https://localhost:8080/"
        },
        "id": "HF5RO2D0Ck6H",
        "outputId": "d0067e32-83e6-4088-ac87-f66ab9bf2974"
      },
      "execution_count": 17,
      "outputs": [
        {
          "output_type": "stream",
          "name": "stdout",
          "text": [
            "chosen proname is - e-tech\n",
            "chosen proname is - lyfesys\n",
            "chosen proname is - protegrity\n"
          ]
        }
      ]
    },
    {
      "cell_type": "code",
      "source": [
        "def empDetails(**emp): #it will take unknown number of data in dictionary format\n",
        "    print(\"firstname of employee : \",emp[\"fname\"])\n",
        "empDetails(fname=\"Richa\",lname=\"Singh\",id=101)\n"
      ],
      "metadata": {
        "colab": {
          "base_uri": "https://localhost:8080/"
        },
        "id": "NrT6uTlTFqM1",
        "outputId": "338002f1-f343-4989-c27d-ecb3559d58b6"
      },
      "execution_count": 18,
      "outputs": [
        {
          "output_type": "stream",
          "name": "stdout",
          "text": [
            "firstname of employee :  Richa\n"
          ]
        }
      ]
    },
    {
      "cell_type": "code",
      "source": [
        "def empdata(**emp):\n",
        "  print(\"id is -\",emp[\"id\"])\n",
        "empdata(fn=\"pavi\",ln=\"R\",id=1234)"
      ],
      "metadata": {
        "colab": {
          "base_uri": "https://localhost:8080/"
        },
        "id": "COZo0YtRFyc3",
        "outputId": "1acae3a9-4132-4017-ac3c-fe8b12ee09f4"
      },
      "execution_count": 21,
      "outputs": [
        {
          "output_type": "stream",
          "name": "stdout",
          "text": [
            "id is - 1234\n"
          ]
        }
      ]
    },
    {
      "cell_type": "code",
      "source": [
        "def location(loc):\n",
        "    for officeLoc in loc:\n",
        "        print(officeLoc)\n",
        "\n",
        "branch = [\"Noida\",\"Bangalore\",\"Chennai\",\"Hyderabad\",\"Gurgaon\"] # brach will contain list of office location\n",
        "location(branch) # location function is taking list of data\n"
      ],
      "metadata": {
        "colab": {
          "base_uri": "https://localhost:8080/"
        },
        "id": "9K7kO5M_GbKQ",
        "outputId": "efd13597-dd56-49f3-c7d9-84f44161b932"
      },
      "execution_count": 22,
      "outputs": [
        {
          "output_type": "stream",
          "name": "stdout",
          "text": [
            "Noida\n",
            "Bangalore\n",
            "Chennai\n",
            "Hyderabad\n",
            "Gurgaon\n"
          ]
        }
      ]
    },
    {
      "cell_type": "code",
      "source": [
        "def locations(list1):\n",
        "  for i in list1:\n",
        "    print(i)\n",
        "branch=[\"blr\",\"hyd\",\"dlh\",\"chn\"]\n",
        "locations(branch[1])"
      ],
      "metadata": {
        "id": "FzPMGdG1TrOw",
        "outputId": "37cdc06c-7b9c-423c-864f-9a88aae21a55",
        "colab": {
          "base_uri": "https://localhost:8080/"
        }
      },
      "execution_count": 28,
      "outputs": [
        {
          "output_type": "stream",
          "name": "stdout",
          "text": [
            "h\n",
            "y\n",
            "d\n"
          ]
        }
      ]
    },
    {
      "cell_type": "code",
      "source": [
        "'''\n",
        "def myFun(num):\n",
        "    return 3*num\n",
        "\n",
        "print(myFun(4)) # print the output of - 13*45\n",
        "res = myFun(2) # store the output of - 13*23\n",
        "print(res)\n",
        "'''\n",
        "\n",
        "def three_mul(num):\n",
        "  res=3*num\n",
        "  return res\n",
        "  print(\"res is-\",res)\n",
        "three_mul(4)\n",
        "\n"
      ],
      "metadata": {
        "id": "hBcZ2safUEMb",
        "outputId": "ac605c80-f9e9-47e9-99d6-af9c7176bb40",
        "colab": {
          "base_uri": "https://localhost:8080/"
        }
      },
      "execution_count": 42,
      "outputs": [
        {
          "output_type": "execute_result",
          "data": {
            "text/plain": [
              "21"
            ]
          },
          "metadata": {},
          "execution_count": 42
        }
      ]
    },
    {
      "cell_type": "code",
      "source": [
        "x = lambda num : num*5\n",
        "print(x(7))\n",
        "\n",
        "calc = lambda num1, num2 : num1*num2\n",
        "print(calc(23,45))\n",
        "\n",
        "name = \"Richa Singh\"\n",
        "upper = lambda string :string.upper()\n",
        "print(upper(name))\n"
      ],
      "metadata": {
        "id": "NqKI5vqjZ6WF",
        "outputId": "95d6fc00-4815-4fc3-85d4-9c27c6f86754",
        "colab": {
          "base_uri": "https://localhost:8080/"
        }
      },
      "execution_count": 44,
      "outputs": [
        {
          "output_type": "stream",
          "name": "stdout",
          "text": [
            "35\n",
            "1035\n",
            "RICHA SINGH\n"
          ]
        }
      ]
    },
    {
      "cell_type": "code",
      "source": [
        "upper=lambda string:string.upper()\n",
        "print(upper(\"hello\"))"
      ],
      "metadata": {
        "id": "8ABOq6LWaBG1",
        "outputId": "4aa829dd-d5cf-4872-8f5d-a18f9a7c62ea",
        "colab": {
          "base_uri": "https://localhost:8080/"
        }
      },
      "execution_count": 45,
      "outputs": [
        {
          "output_type": "stream",
          "name": "stdout",
          "text": [
            "HELLO\n"
          ]
        }
      ]
    },
    {
      "cell_type": "code",
      "source": [
        "lower=lambda string:string.lower()\n",
        "print(lower(\"PAVI\"))"
      ],
      "metadata": {
        "id": "qHOti--xaIKD",
        "outputId": "085b135e-799c-4b36-9224-8cadb21cffc7",
        "colab": {
          "base_uri": "https://localhost:8080/"
        }
      },
      "execution_count": 46,
      "outputs": [
        {
          "output_type": "stream",
          "name": "stdout",
          "text": [
            "pavi\n"
          ]
        }
      ]
    },
    {
      "cell_type": "code",
      "source": [
        "sum =lambda num1,num2,num3:num1+num2+num3\n",
        "print(sum(2,3,4))"
      ],
      "metadata": {
        "id": "je7tQOXNbY5q",
        "outputId": "9b9acc0f-2c13-40a1-e8ff-dfa4b6fca0fa",
        "colab": {
          "base_uri": "https://localhost:8080/"
        }
      },
      "execution_count": 50,
      "outputs": [
        {
          "output_type": "stream",
          "name": "stdout",
          "text": [
            "9\n"
          ]
        }
      ]
    },
    {
      "cell_type": "code",
      "source": [
        "y=lambda n,n2,n3:(n*n2)+n3\n",
        "print(y(2,3,4))"
      ],
      "metadata": {
        "id": "65f0TjbJcD2L",
        "outputId": "08970e84-a6e9-494a-aff0-f0eaf17f441d",
        "colab": {
          "base_uri": "https://localhost:8080/"
        }
      },
      "execution_count": 52,
      "outputs": [
        {
          "output_type": "stream",
          "name": "stdout",
          "text": [
            "10\n"
          ]
        }
      ]
    },
    {
      "cell_type": "code",
      "source": [
        "maxVal = lambda num1, num2 : num1 if(num1>num2) else num2\n",
        "print(maxVal(2,7))\n",
        "print(\"New values\")\n",
        "print(maxVal(23,6))\n"
      ],
      "metadata": {
        "id": "XyRg16oCcuDM",
        "outputId": "4ac2fc89-8c14-420f-9489-769c0df35d9a",
        "colab": {
          "base_uri": "https://localhost:8080/"
        }
      },
      "execution_count": 54,
      "outputs": [
        {
          "output_type": "stream",
          "name": "stdout",
          "text": [
            "7\n",
            "New values\n",
            "23\n"
          ]
        }
      ]
    },
    {
      "cell_type": "code",
      "source": [
        "maxnum=lambda num,num2:num if (num>num2) else num2\n",
        "print(maxnum(23,24))"
      ],
      "metadata": {
        "id": "cTAJ5Olec7YS",
        "outputId": "4e621164-3018-481c-8a44-0ab4a8ca2ae0",
        "colab": {
          "base_uri": "https://localhost:8080/"
        }
      },
      "execution_count": 56,
      "outputs": [
        {
          "output_type": "stream",
          "name": "stdout",
          "text": [
            "24\n"
          ]
        }
      ]
    },
    {
      "cell_type": "code",
      "source": [
        "\n",
        "class Employee :\n",
        "    eid = 101\n",
        "    name=\"Richa\"\n",
        "    address=\"Noida\"\n",
        "emp = Employee() #object of an employee class i.e --emp\n",
        "\n",
        "print(\"Employee id : \",emp.eid)\n",
        "print(\"Address : \",emp.address)\n",
        "print(\"Name : \",emp.name)\n"
      ],
      "metadata": {
        "id": "F8zwUB2pCyW_",
        "outputId": "309b529b-f74a-4d59-cb88-eeaf698144f2",
        "colab": {
          "base_uri": "https://localhost:8080/"
        }
      },
      "execution_count": 1,
      "outputs": [
        {
          "output_type": "stream",
          "name": "stdout",
          "text": [
            "Employee id :  101\n",
            "Address :  Noida\n",
            "Name :  Richa\n"
          ]
        }
      ]
    },
    {
      "cell_type": "code",
      "source": [
        "class Employee :\n",
        "  eid = 101\n",
        "  name = \"pavithra\"\n",
        "  location = \"blr\"\n",
        "  account = \"insurance\"\n",
        "empobj = Employee()\n",
        "print(\"employee location is \",empobj.location)"
      ],
      "metadata": {
        "id": "nj5JHEHIDPod",
        "outputId": "01620ef1-3711-41ce-bdc5-a84a3595e8a3",
        "colab": {
          "base_uri": "https://localhost:8080/"
        }
      },
      "execution_count": 4,
      "outputs": [
        {
          "output_type": "stream",
          "name": "stdout",
          "text": [
            "employee location is  blr\n"
          ]
        }
      ]
    },
    {
      "cell_type": "code",
      "source": [
        "class Employee :\n",
        "   def __init__(self, name, id, address):\n",
        "        self.empname=name\n",
        "        self.eid=id\n",
        "        self.add=address\n",
        "emp1 = Employee(\"pavithra\", 369,\"bangalore\")\n",
        "print(\"employee for intel company --her/his  name is :\",emp1.empname)"
      ],
      "metadata": {
        "id": "-ijYIq1XFBd2",
        "outputId": "c350e727-dfc7-407b-bf8a-a9c65306fa89",
        "colab": {
          "base_uri": "https://localhost:8080/"
        }
      },
      "execution_count": 9,
      "outputs": [
        {
          "output_type": "stream",
          "name": "stdout",
          "text": [
            "employee for intel company --her/his  name is : pavithra\n"
          ]
        }
      ]
    },
    {
      "cell_type": "code",
      "source": [
        "class Employee :\n",
        "    def __init__(self,name, id, address):\n",
        "        self.ename = name\n",
        "        self.id = id\n",
        "        self.add = address\n",
        "\n",
        "emp1 = Employee(\"John\",101,\"Bangalore\")\n",
        "print(\"Employee id : \",emp1.id) #101\n",
        "print(\"Name : \",emp1.ename)#John\n",
        "print(\"Address : \",emp1.add)#Bangalore\n"
      ],
      "metadata": {
        "id": "qwvCxa-CE8e4",
        "outputId": "16a6a77f-ba2f-48f0-9449-f0b141a34c3b",
        "colab": {
          "base_uri": "https://localhost:8080/"
        }
      },
      "execution_count": 5,
      "outputs": [
        {
          "output_type": "stream",
          "name": "stdout",
          "text": [
            "Employee id :  101\n",
            "Name :  John\n",
            "Address :  Bangalore\n"
          ]
        }
      ]
    }
  ]
}